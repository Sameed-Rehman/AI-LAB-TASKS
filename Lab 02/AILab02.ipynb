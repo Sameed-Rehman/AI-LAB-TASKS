{
  "metadata": {
    "kernelspec": {
      "name": "python",
      "display_name": "Python (Pyodide)",
      "language": "python"
    },
    "language_info": {
      "codemirror_mode": {
        "name": "python",
        "version": 3
      },
      "file_extension": ".py",
      "mimetype": "text/x-python",
      "name": "python",
      "nbconvert_exporter": "python",
      "pygments_lexer": "ipython3",
      "version": "3.8"
    }
  },
  "nbformat_minor": 5,
  "nbformat": 4,
  "cells": [
    {
      "id": "a7c2bce4-9714-45ec-8ce9-2487e1af51ea",
      "cell_type": "code",
      "source": "#Task1\nimport random\n\nclass Environment:\n    def __init__(self):\n        self.grid = [random.choice(['Vulnerable', 'Safe']) for i in range(9)]  \n    \n    def display_grid(self):\n     \n        for i, state in enumerate(self.grid):\n            print(f\"Component {chr(65 + i)}: {state}\")\n\n    def get_percept(self, position):\n        return self.grid[position]\n    \n    def patch(self, position):\n        if self.grid[position] == 'Vulnerable':\n            self.grid[position] = 'Safe'\n            print(f\"Component {chr(65 + position)} has been patched.\") \n\nclass SimpleReflexAgent:\n    def __init__(self):\n        self.vulnerable_components = [] \n\n    def act(self, percept, position):\n        if percept == 'Vulnerable':\n            self.vulnerable_components.append(position) \n            return f\"Warning: Vulnerability Detected in Component {chr(65 + position)}\"\n        else:\n            return f\"Component {chr(65 + position)} is already secure.\"\n\ndef run_agent(agent, environment):\n    print(\"\\nInitial System Check\")\n    environment.display_grid()\n\n    print(\"\\nSystem Scan\")\n    for step in range(len(environment.grid)): \n        percept = environment.get_percept(step)\n        action = agent.act(percept, step)\n        print(action)\n\n    print(\"\\nPatching Vulnerabilities\")\n    for position in agent.vulnerable_components:\n        environment.patch(position)\n\n    print(\"\\nFinal System Check\")\n    environment.display_grid()\n\nagent = SimpleReflexAgent()\nenvironment = Environment()\n\nrun_agent(agent, environment)\n",
      "metadata": {
        "trusted": true
      },
      "outputs": [
        {
          "name": "stdout",
          "output_type": "stream",
          "text": "\nInitial System Check\nComponent A: Safe\nComponent B: Safe\nComponent C: Safe\nComponent D: Vulnerable\nComponent E: Vulnerable\nComponent F: Vulnerable\nComponent G: Vulnerable\nComponent H: Safe\nComponent I: Vulnerable\n\nSystem Scan\nComponent A is already secure.\nComponent B is already secure.\nComponent C is already secure.\nWarning: Vulnerability Detected in Component D\nWarning: Vulnerability Detected in Component E\nWarning: Vulnerability Detected in Component F\nWarning: Vulnerability Detected in Component G\nComponent H is already secure.\nWarning: Vulnerability Detected in Component I\n\nPatching Vulnerabilities\nComponent D has been patched.\nComponent E has been patched.\nComponent F has been patched.\nComponent G has been patched.\nComponent I has been patched.\n\nFinal System Check\nComponent A: Safe\nComponent B: Safe\nComponent C: Safe\nComponent D: Safe\nComponent E: Safe\nComponent F: Safe\nComponent G: Safe\nComponent H: Safe\nComponent I: Safe\n"
        }
      ],
      "execution_count": 1
    },
    {
      "id": "a5bc57a9-9ec5-48a9-bb8e-58fb33f7a28d",
      "cell_type": "code",
      "source": "#Task2\nimport random\n\nclass Environment:\n    def __init__(self):\n        self.grid = [random.choice(['Balanced', 'Overloaded', 'Underloaded']) for _ in range(5)]  \n    \n    def display_grid(self):\n        for i, state in enumerate(self.grid):\n            print(f\"Server {chr(65 + i)}: {state}\")\n    \n    def get_percept(self, position):\n        return self.grid[position]\n    \n    def balance(self, overloaded, underloaded):\n        while overloaded and underloaded:\n            over_pos = overloaded.pop(0)\n            under_pos = underloaded.pop(0)\n            self.grid[over_pos] = \"Balanced\"\n            self.grid[under_pos] = \"Balanced\"\n            print(f\"Server {chr(65 + over_pos)} and Server {chr(65 + under_pos)} have been balanced.\")\n\nclass SimpleReflexAgent:\n    def __init__(self):\n        self.over_loaded = [] \n        self.under_loaded = []\n\n    def act(self, percept, position):\n        if percept == 'Overloaded':\n            self.over_loaded.append(position) \n            return f\"Server {chr(65 + position)} is Overloaded.\"\n        elif percept == 'Balanced':\n            return f\"Server {chr(65 + position)} is already Balanced.\"\n        else:\n            self.under_loaded.append(position)\n            return f\"Server {chr(65 + position)} is Underloaded.\"\n\ndef run_agent(agent, environment):\n    print(\"\\nInitial Load Balancer Check\")\n    environment.display_grid()\n    \n    print(\"\\nLoad Balancer System Scan\")\n    for step in range(len(environment.grid)): \n        percept = environment.get_percept(step)\n        action = agent.act(percept, step)\n        print(action)\n    \n    print(\"\\nBalancing the Load\")\n    environment.balance(agent.over_loaded, agent.under_loaded)\n    \n    print(\"\\nFinal System Check\")\n    environment.display_grid()\n\n# Create agent and environment\nagent = SimpleReflexAgent()\nenvironment = Environment()\n\nrun_agent(agent, environment)\n",
      "metadata": {
        "trusted": true
      },
      "outputs": [
        {
          "name": "stdout",
          "output_type": "stream",
          "text": "\nInitial Load Balancer Check\nServer A: Overloaded\nServer B: Balanced\nServer C: Underloaded\nServer D: Underloaded\nServer E: Overloaded\n\nLoad Balancer System Scan\nServer A is Overloaded.\nServer B is already Balanced.\nServer C is Underloaded.\nServer D is Underloaded.\nServer E is Overloaded.\n\nBalancing the Load\nServer A and Server C have been balanced.\nServer E and Server D have been balanced.\n\nFinal System Check\nServer A: Balanced\nServer B: Balanced\nServer C: Balanced\nServer D: Balanced\nServer E: Balanced\n"
        }
      ],
      "execution_count": 2
    },
    {
      "id": "196ef595-7ca0-479a-991d-bf854720c985",
      "cell_type": "code",
      "source": "#task3\nimport random\n\nclass Environment:\n    def __init__(self):\n        self.tasks = [random.choice(['Completed', 'Failed']) for _ in range(5)]\n    def display_tasks(self):\n        print(\"\\nCurrent Backup Status:\")\n        for i, status in enumerate(self.tasks):\n            print(f\"Backup Task {i+1}: {status}\")\n    def retry_backup(self, task_index):\n        #\"creating random possibility of task failing again after retrying :\n        if random.random() < 0.7:\n            self.tasks[task_index] = \"Completed\"\n            return f\"Backup Task {task_index+1} retried and completed.\"\n        else:\n            return f\"Backup Task {task_index+1} retried but still failed.\"\nclass Agent:\n    def __init__(self):\n        self.failed_tasks = []\n\n    def scan_tasks(self, environment):\n        self.failed_tasks = [] \n        for i in range(len(environment.tasks)):\n            if environment.tasks[i] == \"Failed\":\n                self.failed_tasks.append(i)\n            \n    def retry_failed_tasks(self, environment):\n        for task_index in self.failed_tasks:\n            print(environment.retry_backup(task_index))\n\ndef run_backup_system(agent, environment):\n    print(\"Initial Backup Check\")\n    environment.display_tasks()\n    print(\"\\nScanning for Failed Backups\")\n    agent.scan_tasks(environment)\n\n    if not agent.failed_tasks:\n        print(\"All backups are already completed\")\n        return\n\n    print(\"\\nRetrying Failed Backups\")\n    agent.retry_failed_tasks(environment)\n\n    print(\"\\nFinal Backup Status:\")\n    environment.display_tasks()\nbackup_environment = Environment()\nbackup_agent =Agent()\n\nrun_backup_system(backup_agent, backup_environment)\n",
      "metadata": {
        "trusted": true
      },
      "outputs": [
        {
          "name": "stdout",
          "output_type": "stream",
          "text": "Initial Backup Check\n\nCurrent Backup Status:\nBackup Task 1: Completed\nBackup Task 2: Completed\nBackup Task 3: Failed\nBackup Task 4: Failed\nBackup Task 5: Completed\n\nScanning for Failed Backups\n\nRetrying Failed Backups\nBackup Task 3 retried and completed.\nBackup Task 4 retried and completed.\n\nFinal Backup Status:\n\nCurrent Backup Status:\nBackup Task 1: Completed\nBackup Task 2: Completed\nBackup Task 3: Completed\nBackup Task 4: Completed\nBackup Task 5: Completed\n"
        }
      ],
      "execution_count": 4
    },
    {
      "id": "05637ca1-2c5b-42e8-adcd-a1c0929710da",
      "cell_type": "code",
      "source": "#task4\nimport random\n\nclass Environment:\n    def __init__(self):\n        self.components = {chr(65 + i): random.choice([\"Safe\", \"Low Risk Vulnerable\", \"High Risk Vulnerable\"]) for i in range(9)}\n\n    def display_system_state(self, message):\n        print(f\"\\n{message}\")\n        for component, status in self.components.items():\n            print(f\"{component}: {status}\")\n\n    def patch_vulnerability(self, component):\n        if self.components[component] == \"Low Risk Vulnerable\":\n            self.components[component] = \"Safe\"\n            return f\"{component}: Low Risk Vulnerability patched.\"\n        elif self.components[component] == \"High Risk Vulnerable\":\n            return f\"{component}: High Risk Vulnerability detected. Premium service required.\"\n        else:\n            return f\"{component}: Already Safe.\"\n\nclass SecurityAgent:\n    def __init__(self):\n        self.low_risk_vulnerabilities = []\n        self.high_risk_vulnerabilities = []\n\n    def scan_system(self, environment):\n        print(\"\\nScanning system for vulnerabilities\")\n        for component, status in environment.components.items():\n            if status == \"Low Risk Vulnerable\":\n                self.low_risk_vulnerabilities.append(component)\n                print(f\"{component}: Low Risk Vulnerability found.\")\n            elif status == \"High Risk Vulnerable\":\n                self.high_risk_vulnerabilities.append(component)\n                print(f\"{component}: High Risk Vulnerability found.\")\n            else:\n                print(f\"{component}: Safe.\")\n    def patch_vulnerabilities(self, environment):\n        print(\"\\nPatching Low Risk Vulnerabilities\")\n        for component in self.low_risk_vulnerabilities:\n            print(environment.patch_vulnerability(component))\n\n        print(\"\\nHigh Risk Vulnerabilities that require Premium Servise:\")\n        for component in self.high_risk_vulnerabilities:\n            print(f\"{component}: Needs premium security patch.\")\n\ndef run_security_agent(agent, environment):\n    environment.display_system_state(\"Initial System Check:\")\n    agent.scan_system(environment)\n    if not agent.low_risk_vulnerabilities and not agent.high_risk_vulnerabilities:\n        print(\"\\nThe system is already secure. No vulnerabilities found.\")\n        return\n    agent.patch_vulnerabilities(environment)\n    environment.display_system_state(\"Final System State After Patching:\")\nsecurity_environment = Environment()\nsecurity_agent = SecurityAgent()\nrun_security_agent(security_agent, security_environment)\n",
      "metadata": {
        "trusted": true
      },
      "outputs": [
        {
          "name": "stdout",
          "output_type": "stream",
          "text": "\nInitial System Check:\nA: Safe\nB: High Risk Vulnerable\nC: Low Risk Vulnerable\nD: High Risk Vulnerable\nE: Low Risk Vulnerable\nF: Low Risk Vulnerable\nG: Low Risk Vulnerable\nH: Safe\nI: Safe\n\nScanning system for vulnerabilities\nA: Safe.\nB: High Risk Vulnerability found.\nC: Low Risk Vulnerability found.\nD: High Risk Vulnerability found.\nE: Low Risk Vulnerability found.\nF: Low Risk Vulnerability found.\nG: Low Risk Vulnerability found.\nH: Safe.\nI: Safe.\n\nPatching Low Risk Vulnerabilities\nC: Low Risk Vulnerability patched.\nE: Low Risk Vulnerability patched.\nF: Low Risk Vulnerability patched.\nG: Low Risk Vulnerability patched.\n\nHigh Risk Vulnerabilities that require Premium Servise:\nB: Needs premium security patch.\nD: Needs premium security patch.\n\nFinal System State After Patching:\nA: Safe\nB: High Risk Vulnerable\nC: Safe\nD: High Risk Vulnerable\nE: Safe\nF: Safe\nG: Safe\nH: Safe\nI: Safe\n"
        }
      ],
      "execution_count": 6
    },
    {
      "id": "91eb2a96-851b-46bc-8386-eab0a17b686e",
      "cell_type": "code",
      "source": "#Task5\nimport random\n\nclass Environment:\n    def __init__(self):\n        self.rooms = {i: {\"medicine\": random.choice([\"Paracetamol\", \"Antibiotic\", \"None\"]),\n                          \"patient_id\": f\"P-{i}\"} for i in range(1, 5)} \n        self.medicine_storage = [\"Paracetamol\", \"Antibiotic\", \"Painkiller\"]\n        self.nurse_station = \"Available\"\n    \n    def display_hospital_state(self, message):\n        print(f\"\\n{message}\")\n        for room, details in self.rooms.items():\n            print(f\"Room {room}: Medicine Needed - {details['medicine']}, Patient ID - {details['patient_id']}\")\n\n    def get_medicine_for_room(self, room_number):\n        return self.rooms[room_number][\"medicine\"]\n    def verify_patient(self, room_number, scanned_id):\n        return self.rooms[room_number][\"patient_id\"] == scanned_id\n    def alert_staff(self, reason):\n        print(f\"Alert: {reason}. Notifying nurse \")\n\nclass Agent:\n    def __init__(self):\n        self.current_location = \"Medicine Storage\"\n        self.carrying_medicine = None\n\n    def move_to(self, location):\n        self.current_location = location\n        print(f\"Moving to {location}\")\n\n    def pick_up_medicine(self, medicine, environment):\n        if medicine in environment.medicine_storage:\n            self.carrying_medicine = medicine\n            print(f\"Picked up {medicine} from storage\")\n        else:\n            print(f\"{medicine} not available in storage\")\n\n    def deliver_medicine(self, room_number, environment):\n        expected_medicine = environment.get_medicine_for_room(room_number)\n\n        if expected_medicine == \"None\":\n            print(f\"Room {room_number}  needs no medicin\")\n            return\n\n        if self.carrying_medicine != expected_medicine:\n            print(f\"Wrong medicin ({self.carrying_medicine}) for Room number {room_number}. Alerting staff.\")\n            environment.alert_staff(f\"Incorrect medicine for Room number {room_number}\")\n            return\n        scanned_id = f\"P-{room_number}\"\n        if environment.verify_patient(room_number, scanned_id):\n            print(f\"Medicine {self.carrying_medicine} delivered to Room {room_number}.\")\n            self.carrying_medicine = None  # Medicine is delivered\n        else:\n            print(f\"Error: Patient ID mismatch in Room {room_number}. Alerting staff.\")\n            environment.alert_staff(f\"Patient verification failed in Room {room_number}\")\n\ndef run_agent(robot, environment):\n    environment.display_hospital_state(\"Initial Hospital State\")\n    for room_number in environment.rooms:\n        medicine_needed = environment.get_medicine_for_room(room_number)\n        if medicine_needed == \"None\":\n            continue  # \n        robot.move_to(\"Medicine Storage\")\n        robot.pick_up_medicine(medicine_needed, environment)\n        robot.move_to(f\"Room {room_number}\")\n        robot.deliver_medicine(room_number, environment)\n    environment.display_hospital_state(\"Final Hospital State\")\nhospital_environment = Environment()\nhospital_robot = Agent()\nrun_agent(hospital_robot, hospital_environment)\n",
      "metadata": {
        "trusted": true
      },
      "outputs": [
        {
          "name": "stdout",
          "output_type": "stream",
          "text": "\nInitial Hospital State\nRoom 1: Medicine Needed - Paracetamol, Patient ID - P-1\nRoom 2: Medicine Needed - Paracetamol, Patient ID - P-2\nRoom 3: Medicine Needed - Paracetamol, Patient ID - P-3\nRoom 4: Medicine Needed - Paracetamol, Patient ID - P-4\nMoving to Medicine Storage\nPicked up Paracetamol from storage\nMoving to Room 1\nMedicine Paracetamol delivered to Room 1.\nMoving to Medicine Storage\nPicked up Paracetamol from storage\nMoving to Room 2\nMedicine Paracetamol delivered to Room 2.\nMoving to Medicine Storage\nPicked up Paracetamol from storage\nMoving to Room 3\nMedicine Paracetamol delivered to Room 3.\nMoving to Medicine Storage\nPicked up Paracetamol from storage\nMoving to Room 4\nMedicine Paracetamol delivered to Room 4.\n\nFinal Hospital State\nRoom 1: Medicine Needed - Paracetamol, Patient ID - P-1\nRoom 2: Medicine Needed - Paracetamol, Patient ID - P-2\nRoom 3: Medicine Needed - Paracetamol, Patient ID - P-3\nRoom 4: Medicine Needed - Paracetamol, Patient ID - P-4\n"
        }
      ],
      "execution_count": 12
    },
    {
      "id": "46988f4a-7c0e-4580-bfcc-d1dda76c6a59",
      "cell_type": "code",
      "source": "#Task6\nclass Environment:\n    def __init__(self):\n        self.rooms = {'a': 'Safe', 'b': 'Safe', 'c': 'Fire',\n                      'd': 'Safe', 'e': 'Fire', 'f': 'Safe',\n                      'g': 'Safe', 'h': 'Safe', 'j': 'Fire' }\n        self.path = ['a', 'b', 'c', 'd', 'e', 'f', 'g', 'h', 'j']\n    def display_environment(self, message):\n        print(f\"\\n{message}\")\n        print(\"Building Status:\")\n        print(f\"{self.rooms['a']}  {self.rooms['b']}  {self.rooms['c']}\")\n        print(f\"{self.rooms['d']}  {self.rooms['e']}  {self.rooms['f']}\")\n        print(f\"{self.rooms['g']}  {self.rooms['h']}  {self.rooms['j']}\")\n    \n    def check_fire(self, room):\n        return self.rooms[room] == \"Fire\"\n\n    def extinguish_fire(self, room):\n        self.rooms[room] = \"Safe\"\n        print(f\"Fire in Room {room.upper()} extinguished\")\n\nclass Agent:\n    def __init__(self):\n        self.current_position = 'a' \n    def move_to(self, room):\n        self.current_position = room\n        print(f\"Moving to Room {room.upper()}\")\n    def check_and_extinguish(self, environment):\n        if environment.check_fire(self.current_position):\n            print(f\"Fire detected in Room {self.current_position.upper()}!\")\n            environment.extinguish_fire(self.current_position)\ndef run_firefighting_robot(robot, environment):\n    environment.display_environment(\"Initial Building Status\")\n    for room in environment.path:\n        robot.move_to(room)\n        robot.check_and_extinguish(environment)\n        environment.display_environment(f\"Status After Moving to Room {room.upper()}\")\n    environment.display_environment(\"Final Building Status after All Fires Extinguished\")\nbuilding_environment = Environment()\nfirefighting_robot = Agent()\n\nrun_firefighting_robot(firefighting_robot, building_environment)\n",
      "metadata": {
        "trusted": true
      },
      "outputs": [
        {
          "name": "stdout",
          "output_type": "stream",
          "text": "\nInitial Building Status\nBuilding Status:\nSafe  Safe  Fire\nSafe  Fire  Safe\nSafe  Safe  Fire\nMoving to Room A\n\nStatus After Moving to Room A\nBuilding Status:\nSafe  Safe  Fire\nSafe  Fire  Safe\nSafe  Safe  Fire\nMoving to Room B\n\nStatus After Moving to Room B\nBuilding Status:\nSafe  Safe  Fire\nSafe  Fire  Safe\nSafe  Safe  Fire\nMoving to Room C\nFire detected in Room C!\nFire in Room C extinguished\n\nStatus After Moving to Room C\nBuilding Status:\nSafe  Safe  Safe\nSafe  Fire  Safe\nSafe  Safe  Fire\nMoving to Room D\n\nStatus After Moving to Room D\nBuilding Status:\nSafe  Safe  Safe\nSafe  Fire  Safe\nSafe  Safe  Fire\nMoving to Room E\nFire detected in Room E!\nFire in Room E extinguished\n\nStatus After Moving to Room E\nBuilding Status:\nSafe  Safe  Safe\nSafe  Safe  Safe\nSafe  Safe  Fire\nMoving to Room F\n\nStatus After Moving to Room F\nBuilding Status:\nSafe  Safe  Safe\nSafe  Safe  Safe\nSafe  Safe  Fire\nMoving to Room G\n\nStatus After Moving to Room G\nBuilding Status:\nSafe  Safe  Safe\nSafe  Safe  Safe\nSafe  Safe  Fire\nMoving to Room H\n\nStatus After Moving to Room H\nBuilding Status:\nSafe  Safe  Safe\nSafe  Safe  Safe\nSafe  Safe  Fire\nMoving to Room J\nFire detected in Room J!\nFire in Room J extinguished\n\nStatus After Moving to Room J\nBuilding Status:\nSafe  Safe  Safe\nSafe  Safe  Safe\nSafe  Safe  Safe\n\nFinal Building Status after All Fires Extinguished\nBuilding Status:\nSafe  Safe  Safe\nSafe  Safe  Safe\nSafe  Safe  Safe\n"
        }
      ],
      "execution_count": 16
    },
    {
      "id": "2155fe3f-842d-48db-b07e-6470f8b6117c",
      "cell_type": "code",
      "source": "",
      "metadata": {
        "trusted": true
      },
      "outputs": [],
      "execution_count": null
    }
  ]
}