{
  "nbformat": 4,
  "nbformat_minor": 0,
  "metadata": {
    "colab": {
      "provenance": []
    },
    "kernelspec": {
      "name": "python3",
      "display_name": "Python 3"
    },
    "language_info": {
      "name": "python"
    }
  },
  "cells": [
    {
      "cell_type": "code",
      "execution_count": 2,
      "metadata": {
        "colab": {
          "base_uri": "https://localhost:8080/"
        },
        "id": "HfPEBYC_dibH",
        "outputId": "76130269-7da5-44ad-ffa4-974f6ac389e4"
      },
      "outputs": [
        {
          "output_type": "stream",
          "name": "stdout",
          "text": [
            "Goal found with DLS. Path: ['A', 'B', 'D']\n"
          ]
        }
      ],
      "source": [
        "#dls with goal based:\n",
        "#Task1a\n",
        "class GoalBasedAgentDLS:\n",
        "    def __init__(self, goal, depth_limit):\n",
        "        self.goal = goal\n",
        "        self.depth_limit = depth_limit\n",
        "        self.visited = []\n",
        "    def formulate_goal(self, node, depth):\n",
        "        if depth > self.depth_limit:\n",
        "            return \"Depth Limit Reached\"\n",
        "        if node == self.goal:\n",
        "            return \"Goal Reached\"\n",
        "        return \"Continue Search\"\n",
        "    def act(self, graph, node, depth):\n",
        "        self.visited.append(node)\n",
        "        status = self.formulate_goal(node, depth)\n",
        "        if status == \"Goal Reached\":\n",
        "            print(f\"Goal found with DLS. Path: {self.visited}\")\n",
        "            return True\n",
        "        elif status == \"Depth Limit Reached\":\n",
        "            return False\n",
        "        for neighbor in graph.get(node, []):\n",
        "            if neighbor not in self.visited:\n",
        "                found = self.act(graph, neighbor, depth + 1)\n",
        "                if found:\n",
        "                    return True\n",
        "        self.visited.pop()\n",
        "        return False\n",
        "class EnvironmentDLS:\n",
        "    def __init__(self, graph, start):\n",
        "        self.graph = graph\n",
        "        self.start = start\n",
        "    def get_percept(self):\n",
        "        return self.start\n",
        "def run_goal_based_agent(agent, environment):\n",
        "    start = environment.get_percept()\n",
        "    if not agent.act(environment.graph, start, 0):\n",
        "        print(\"Goal not found within depth limit\")\n",
        "graph = {\n",
        "    'A': ['B', 'C'],\n",
        "    'B': ['D', 'E'],\n",
        "    'C': ['F', 'G'],\n",
        "    'D': ['H'],\n",
        "    'E': [],\n",
        "    'F': ['I'],\n",
        "    'G': [],\n",
        "    'H': [],\n",
        "    'I': []\n",
        "}\n",
        "\n",
        "agent = GoalBasedAgentDLS(goal='D', depth_limit=3)\n",
        "environment = EnvironmentDLS(graph, start='A')\n",
        "run_goal_based_agent(agent, environment)\n"
      ]
    },
    {
      "cell_type": "code",
      "source": [
        "#task1b\n",
        "#ucs with utility based agent:\n",
        "graph = {\n",
        "    'A': {'B': 2, 'C': 1},\n",
        "    'B': {'D': 4, 'E': 3},\n",
        "    'C': {'F': 1, 'G': 5},\n",
        "    'D': {'H': 2},\n",
        "    'E': {},\n",
        "    'F': {'I': 6},\n",
        "    'G': {},\n",
        "    'H': {},\n",
        "    'I': {}\n",
        "}\n",
        "# Utility-Based Agent Class\n",
        "class UtilityBasedAgent:\n",
        "    def __init__(self, start, goal):\n",
        "        self.start = start\n",
        "        self.goal = goal\n",
        "        self.frontier = [(start, 0)]\n",
        "        self.visited = set()\n",
        "        self.cost_so_far = {start: 0}\n",
        "        self.came_from = {start: None}\n",
        "    def calculate_utility(self, cost):\n",
        "        return -cost\n",
        "    def select_action(self, neighbors):\n",
        "        for neighbor, cost in neighbors.items():\n",
        "            new_cost = self.cost_so_far[self.current_node] + cost\n",
        "            if neighbor not in self.cost_so_far or new_cost < self.cost_so_far[neighbor]:\n",
        "                self.cost_so_far[neighbor] = new_cost\n",
        "                self.came_from[neighbor] = self.current_node\n",
        "                self.frontier.append((neighbor, new_cost))\n",
        "    def act(self, environment):\n",
        "        while self.frontier:\n",
        "            self.frontier.sort(key=lambda x: x[1])\n",
        "            self.current_node, current_cost = self.frontier.pop(0)\n",
        "            if self.current_node in self.visited:\n",
        "                continue\n",
        "            self.visited.add(self.current_node)\n",
        "            if self.current_node == self.goal:\n",
        "                path = []\n",
        "                while self.current_node is not None:\n",
        "                    path.append(self.current_node)\n",
        "                    self.current_node = self.came_from[self.current_node]\n",
        "                path.reverse()\n",
        "                print(f\"Goal found with UCS. Path: {path}, Total Cost: {current_cost}\")\n",
        "                return\n",
        "            neighbors = environment.get_percept(self.current_node)\n",
        "            self.select_action(neighbors)\n",
        "        print(\"Goal not found\")\n",
        "class Environment:\n",
        "    def __init__(self, graph):\n",
        "        self.graph = graph\n",
        "\n",
        "    def get_percept(self, node):\n",
        "        return self.graph.get(node, {})\n",
        "def run_agent(agent, environment):\n",
        "    agent.act(environment)\n",
        "environment = Environment(graph)\n",
        "agent = UtilityBasedAgent(start='A', goal='I')\n",
        "run_agent(agent, environment)\n"
      ],
      "metadata": {
        "colab": {
          "base_uri": "https://localhost:8080/"
        },
        "id": "z34-HGmcdugD",
        "outputId": "da4eea3c-aac5-46f1-d1b7-98582567c805"
      },
      "execution_count": 3,
      "outputs": [
        {
          "output_type": "stream",
          "name": "stdout",
          "text": [
            "Goal found with UCS. Path: ['A', 'C', 'F', 'I'], Total Cost: 8\n"
          ]
        }
      ]
    },
    {
      "cell_type": "code",
      "source": [
        "#Task2:\n",
        "from collections import deque\n",
        "dist_matrix = [\n",
        "    [0, 10, 15, 20],\n",
        "    [10, 0, 35, 25],\n",
        "    [15, 35, 0, 30],\n",
        "    [20, 25, 30, 0]\n",
        "]\n",
        "cities = ['A', 'B', 'C', 'D']\n",
        "num_cities = len(dist_matrix)\n",
        "def ucs_tsp():\n",
        "    queue = deque()\n",
        "    queue.append((0, [0]))\n",
        "    min_cost = float('inf')\n",
        "    best_route = None\n",
        "    while queue:\n",
        "        cost, path = queue.popleft()\n",
        "        if len(path) == num_cities:\n",
        "            total_cost = cost + dist_matrix[path[-1]][path[0]]\n",
        "            if total_cost < min_cost:\n",
        "                min_cost = total_cost\n",
        "                best_route = path + [path[0]]\n",
        "\n",
        "        for next_city in range(num_cities):\n",
        "            if next_city not in path:\n",
        "                new_cost = cost + dist_matrix[path[-1]][next_city]\n",
        "                new_path = path + [next_city]\n",
        "                queue.append((new_cost, new_path))\n",
        "    best_route_cities = [cities[i] for i in best_route]\n",
        "    return best_route_cities, min_cost\n",
        "best_route, min_cost = ucs_tsp()\n",
        "print(\"Route:\", best_route)\n",
        "print(\"Distance:\", min_cost)\n"
      ],
      "metadata": {
        "colab": {
          "base_uri": "https://localhost:8080/"
        },
        "id": "dQqdvo5ad6ES",
        "outputId": "a76584e2-3e91-4051-e408-b1ac7967e57b"
      },
      "execution_count": 4,
      "outputs": [
        {
          "output_type": "stream",
          "name": "stdout",
          "text": [
            "Route: ['A', 'B', 'D', 'C', 'A']\n",
            "Distance: 80\n"
          ]
        }
      ]
    },
    {
      "cell_type": "code",
      "source": [
        "graph = {\n",
        "    'A': ['B', 'C'],\n",
        "    'B': ['D', 'E'],\n",
        "    'C': ['F', 'G'],\n",
        "    'D': [],\n",
        "    'E': [],\n",
        "    'F': [],\n",
        "    'G': []\n",
        "}\n",
        "def dls(node, goal, depth, path):\n",
        "    if depth == 0:\n",
        "        return False\n",
        "    if node == goal:\n",
        "        path.append(node)\n",
        "        return True\n",
        "    if node not in graph:\n",
        "        return False\n",
        "    for child in graph[node]:\n",
        "        if dls(child, goal, depth - 1, path):\n",
        "            path.append(node)\n",
        "            return True\n",
        "    return False\n",
        "def iddfs(start, goal, max_depth):\n",
        "    for depth in range(max_depth + 1):\n",
        "        print(f\"Depth Limit: {depth}\")\n",
        "        path = []\n",
        "        if dls(start, goal, depth, path):\n",
        "            print(\"Path:\", \" - \".join(reversed(path)))\n",
        "            return\n",
        "    print(\"Goal not found within depth limit.\")\n",
        "iddfs('A', 'F', 3)\n"
      ],
      "metadata": {
        "colab": {
          "base_uri": "https://localhost:8080/"
        },
        "id": "w9qgDl_4emPG",
        "outputId": "e877e4f5-c08e-48b7-f4b6-7b3a0bcf5b34"
      },
      "execution_count": 7,
      "outputs": [
        {
          "output_type": "stream",
          "name": "stdout",
          "text": [
            "Depth Limit: 0\n",
            "Depth Limit: 1\n",
            "Depth Limit: 2\n",
            "Depth Limit: 3\n",
            "Path: A - C - F\n"
          ]
        }
      ]
    },
    {
      "cell_type": "code",
      "source": [
        "from collections import deque\n",
        "grid = [\n",
        "    ['S', 0, 1, 0],\n",
        "    [0, 0, 1, 0],\n",
        "    [1, 0, 0, 'G'],\n",
        "    [0, 1, 0, 0]\n",
        "]\n",
        "directions = [(-1, 0), (1, 0), (0, -1), (0, 1)]\n",
        "def bfs(grid):\n",
        "    rows, cols = len(grid), len(grid[0])\n",
        "    queue = deque()\n",
        "    visited = set()\n",
        "    for i in range(rows):\n",
        "        for j in range(cols):\n",
        "            if grid[i][j] == 'S':\n",
        "                start = (i, j)\n",
        "\n",
        "    queue.append((start, [start]))\n",
        "    visited.add(start)\n",
        "    while queue:\n",
        "        (x, y), path = queue.popleft()\n",
        "        if grid[x][y] == 'G':\n",
        "            return path\n",
        "        for dx, dy in directions:\n",
        "            nx, ny = x + dx, y + dy\n",
        "            if 0 <= nx < rows and 0 <= ny < cols and (nx, ny) not in visited:\n",
        "                if grid[nx][ny] != 1:\n",
        "                    visited.add((nx, ny))\n",
        "                    queue.append(((nx, ny), path + [(nx, ny)]))\n",
        "\n",
        "    return \"No Path Found\"\n",
        "path = bfs(grid)\n",
        "print(\"Shortest Path:\", path)\n"
      ],
      "metadata": {
        "colab": {
          "base_uri": "https://localhost:8080/"
        },
        "id": "UrI4OD4wgZrE",
        "outputId": "79a2d64e-fd94-4e19-e05a-bb34d79656ba"
      },
      "execution_count": 8,
      "outputs": [
        {
          "output_type": "stream",
          "name": "stdout",
          "text": [
            "Shortest Path: [(0, 0), (1, 0), (1, 1), (2, 1), (2, 2), (2, 3)]\n"
          ]
        }
      ]
    }
  ]
}